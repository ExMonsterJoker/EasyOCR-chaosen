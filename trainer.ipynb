{
 "cells": [
  {
   "cell_type": "code",
   "metadata": {
    "ExecuteTime": {
     "end_time": "2025-07-05T04:21:43.731494Z",
     "start_time": "2025-07-05T04:21:43.723698Z"
    }
   },
   "source": [
    "import os\n",
    "import torch.backends.cudnn as cudnn\n",
    "import yaml\n",
    "from train import train\n",
    "from utils import AttrDict\n",
    "import pandas as pd"
   ],
   "outputs": [],
   "execution_count": 44
  },
  {
   "cell_type": "code",
   "metadata": {
    "code_folding": [],
    "ExecuteTime": {
     "end_time": "2025-07-05T04:21:43.748147Z",
     "start_time": "2025-07-05T04:21:43.741620Z"
    }
   },
   "source": [
    "cudnn.benchmark = True\n",
    "cudnn.deterministic = False"
   ],
   "outputs": [],
   "execution_count": 45
  },
  {
   "cell_type": "code",
   "metadata": {
    "code_folding": [
     0
    ],
    "ExecuteTime": {
     "end_time": "2025-07-05T04:21:43.764492Z",
     "start_time": "2025-07-05T04:21:43.756991Z"
    }
   },
   "source": [
    "def get_config(file_path):\n",
    "    with open(file_path, 'r', encoding=\"utf8\") as stream:\n",
    "        opt = yaml.safe_load(stream)\n",
    "    opt = AttrDict(opt)\n",
    "    if opt.lang_char == 'None':\n",
    "        characters = ''\n",
    "        for data in opt['select_data'].split('-'):\n",
    "            csv_path = os.path.join(opt['train_data'], data, 'labels.csv')\n",
    "            df = pd.read_csv(csv_path, sep='^([^,]+),', engine='python', usecols=['filename', 'words'], keep_default_na=False)\n",
    "            all_char = ''.join(df['words'])\n",
    "            characters += ''.join(set(all_char))\n",
    "        characters = sorted(set(characters))\n",
    "        opt.character= ''.join(characters)\n",
    "    else:\n",
    "        opt.character = opt.number + opt.symbol + opt.lang_char\n",
    "    os.makedirs(f'./saved_models/{opt.experiment_name}', exist_ok=True)\n",
    "    return opt"
   ],
   "outputs": [],
   "execution_count": 46
  },
  {
   "cell_type": "code",
   "metadata": {
    "ExecuteTime": {
     "end_time": "2025-07-05T04:54:09.813550Z",
     "start_time": "2025-07-05T04:54:09.548641Z"
    }
   },
   "source": [
    "opt = get_config(\"config_files/en_filtered_config.yaml\")\n",
    "train(opt, amp=False)"
   ],
   "outputs": [
    {
     "name": "stdout",
     "output_type": "stream",
     "text": [
      "Filtering the images containing characters which are not in opt.character\n",
      "Filtering the images whose label is longer than opt.batch_max_length\n",
      "--------------------------------------------------------------------------------\n",
      "dataset_root: all_data\\train_data\n",
      "opt.select_data: ['D:\\\\Stuff\\\\EasyOCR', 'chaosen\\\\trainer\\\\all_data\\\\train_data']\n",
      "opt.batch_ratio: ['1']\n"
     ]
    },
    {
     "ename": "AssertionError",
     "evalue": "",
     "output_type": "error",
     "traceback": [
      "\u001B[31m---------------------------------------------------------------------------\u001B[39m",
      "\u001B[31mAssertionError\u001B[39m                            Traceback (most recent call last)",
      "\u001B[36mCell\u001B[39m\u001B[36m \u001B[39m\u001B[32mIn[48]\u001B[39m\u001B[32m, line 2\u001B[39m\n\u001B[32m      1\u001B[39m opt = get_config(\u001B[33m\"\u001B[39m\u001B[33mconfig_files/en_filtered_config.yaml\u001B[39m\u001B[33m\"\u001B[39m)\n\u001B[32m----> \u001B[39m\u001B[32m2\u001B[39m \u001B[43mtrain\u001B[49m\u001B[43m(\u001B[49m\u001B[43mopt\u001B[49m\u001B[43m,\u001B[49m\u001B[43m \u001B[49m\u001B[43mamp\u001B[49m\u001B[43m=\u001B[49m\u001B[38;5;28;43;01mFalse\u001B[39;49;00m\u001B[43m)\u001B[49m\n",
      "\u001B[36mFile \u001B[39m\u001B[32mD:\\Stuff\\EasyOCR-chaosen\\trainer\\train.py:40\u001B[39m, in \u001B[36mtrain\u001B[39m\u001B[34m(opt, show_number, amp)\u001B[39m\n\u001B[32m     38\u001B[39m opt.select_data = opt.select_data.split(\u001B[33m'\u001B[39m\u001B[33m-\u001B[39m\u001B[33m'\u001B[39m)\n\u001B[32m     39\u001B[39m opt.batch_ratio = opt.batch_ratio.split(\u001B[33m'\u001B[39m\u001B[33m-\u001B[39m\u001B[33m'\u001B[39m)\n\u001B[32m---> \u001B[39m\u001B[32m40\u001B[39m train_dataset = \u001B[43mBatch_Balanced_Dataset\u001B[49m\u001B[43m(\u001B[49m\u001B[43mopt\u001B[49m\u001B[43m)\u001B[49m\n\u001B[32m     42\u001B[39m log = \u001B[38;5;28mopen\u001B[39m(\u001B[33mf\u001B[39m\u001B[33m'\u001B[39m\u001B[33m./saved_models/\u001B[39m\u001B[38;5;132;01m{\u001B[39;00mopt.experiment_name\u001B[38;5;132;01m}\u001B[39;00m\u001B[33m/log_dataset.txt\u001B[39m\u001B[33m'\u001B[39m, \u001B[33m'\u001B[39m\u001B[33ma\u001B[39m\u001B[33m'\u001B[39m, encoding=\u001B[33m\"\u001B[39m\u001B[33mutf8\u001B[39m\u001B[33m\"\u001B[39m)\n\u001B[32m     43\u001B[39m AlignCollate_valid = AlignCollate(imgH=opt.imgH, imgW=opt.imgW, keep_ratio_with_pad=opt.PAD, contrast_adjust=opt.contrast_adjust)\n",
      "\u001B[36mFile \u001B[39m\u001B[32mD:\\Stuff\\EasyOCR-chaosen\\trainer\\dataset.py:48\u001B[39m, in \u001B[36mBatch_Balanced_Dataset.__init__\u001B[39m\u001B[34m(self, opt)\u001B[39m\n\u001B[32m     45\u001B[39m \u001B[38;5;28mprint\u001B[39m(\u001B[33mf\u001B[39m\u001B[33m'\u001B[39m\u001B[33mdataset_root: \u001B[39m\u001B[38;5;132;01m{\u001B[39;00mopt.train_data\u001B[38;5;132;01m}\u001B[39;00m\u001B[38;5;130;01m\\n\u001B[39;00m\u001B[33mopt.select_data: \u001B[39m\u001B[38;5;132;01m{\u001B[39;00mopt.select_data\u001B[38;5;132;01m}\u001B[39;00m\u001B[38;5;130;01m\\n\u001B[39;00m\u001B[33mopt.batch_ratio: \u001B[39m\u001B[38;5;132;01m{\u001B[39;00mopt.batch_ratio\u001B[38;5;132;01m}\u001B[39;00m\u001B[33m'\u001B[39m)\n\u001B[32m     46\u001B[39m log.write(\n\u001B[32m     47\u001B[39m     \u001B[33mf\u001B[39m\u001B[33m'\u001B[39m\u001B[33mdataset_root: \u001B[39m\u001B[38;5;132;01m{\u001B[39;00mopt.train_data\u001B[38;5;132;01m}\u001B[39;00m\u001B[38;5;130;01m\\n\u001B[39;00m\u001B[33mopt.select_data: \u001B[39m\u001B[38;5;132;01m{\u001B[39;00mopt.select_data\u001B[38;5;132;01m}\u001B[39;00m\u001B[38;5;130;01m\\n\u001B[39;00m\u001B[33mopt.batch_ratio: \u001B[39m\u001B[38;5;132;01m{\u001B[39;00mopt.batch_ratio\u001B[38;5;132;01m}\u001B[39;00m\u001B[38;5;130;01m\\n\u001B[39;00m\u001B[33m'\u001B[39m)\n\u001B[32m---> \u001B[39m\u001B[32m48\u001B[39m \u001B[38;5;28;01massert\u001B[39;00m \u001B[38;5;28mlen\u001B[39m(opt.select_data) == \u001B[38;5;28mlen\u001B[39m(opt.batch_ratio)\n\u001B[32m     50\u001B[39m _AlignCollate = AlignCollate(imgH=opt.imgH, imgW=opt.imgW, keep_ratio_with_pad=opt.PAD,\n\u001B[32m     51\u001B[39m                              contrast_adjust=opt.contrast_adjust)\n\u001B[32m     52\u001B[39m \u001B[38;5;28mself\u001B[39m.data_loader_list = []\n",
      "\u001B[31mAssertionError\u001B[39m: "
     ]
    }
   ],
   "execution_count": 48
  },
  {
   "cell_type": "code",
   "metadata": {},
   "source": "",
   "outputs": [],
   "execution_count": null
  }
 ],
 "metadata": {
  "kernelspec": {
   "display_name": "Python 3",
   "language": "python",
   "name": "python3"
  },
  "language_info": {
   "codemirror_mode": {
    "name": "ipython",
    "version": 3
   },
   "file_extension": ".py",
   "mimetype": "text/x-python",
   "name": "python",
   "nbconvert_exporter": "python",
   "pygments_lexer": "ipython3",
   "version": "3.8.11"
  }
 },
 "nbformat": 4,
 "nbformat_minor": 2
}
